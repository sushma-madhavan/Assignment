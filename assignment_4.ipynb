{
 "cells": [
  {
   "cell_type": "code",
   "execution_count": 15,
   "metadata": {},
   "outputs": [
    {
     "name": "stdout",
     "output_type": "stream",
     "text": [
      " area of triangle is :\n",
      "0.4330127018922193\n"
     ]
    }
   ],
   "source": [
    "#assignment 4"
   ]
  },
  {
   "cell_type": "code",
   "execution_count": null,
   "metadata": {},
   "outputs": [],
   "source": [
    "class triangle:\n",
    "    def __init__(self,a,b,c):\n",
    "        self.a = a\n",
    "        self.b =b\n",
    "        self.c = c\n",
    "\n",
    "\n",
    "class area(triangle):\n",
    "    def __init__(self,a,b,c):\n",
    "        super().__init__(a,b,c)\n",
    "    def find_area(self):\n",
    "        s = (self.a+self.b+self.c)/2\n",
    "        self.area = ((s*(s-self.a) * (s-self.b)* (s-self.c))**0.5)\n",
    "        print(\" area of triangle is :\")\n",
    "        print(self.area)\n",
    "        \n",
    "\n",
    "mytriangle = area(1,1,1)\n",
    "mytriangle.find_area()"
   ]
  },
  {
   "cell_type": "code",
   "execution_count": 26,
   "metadata": {},
   "outputs": [
    {
     "name": "stdout",
     "output_type": "stream",
     "text": [
      "['hello', 'program']\n"
     ]
    }
   ],
   "source": [
    "def filter_long_words(n,lis):\n",
    "    l=[]\n",
    "    for i in range(0,len(lis)):\n",
    "        if len(lis[i]) > n :\n",
    "            l.append(lis[i])\n",
    "    return l\n",
    "\n",
    "lis = [\"hello\", \"this\", \"is\", \"a\", \"test\", \"program\"]\n",
    "list1 = filter_long_words(4,lis)\n",
    "print(list1)"
   ]
  },
  {
   "cell_type": "code",
   "execution_count": 27,
   "metadata": {},
   "outputs": [
    {
     "name": "stdout",
     "output_type": "stream",
     "text": [
      "[5, 4, 2, 1, 4, 7]\n"
     ]
    }
   ],
   "source": [
    "lis = [\"hello\", \"this\", \"is\",\"a\",\"test\",\"program\"]\n",
    "print(list(map(lambda x: len(x) , lis)))\n"
   ]
  },
  {
   "cell_type": "code",
   "execution_count": 33,
   "metadata": {},
   "outputs": [
    {
     "name": "stdout",
     "output_type": "stream",
     "text": [
      "True\n"
     ]
    }
   ],
   "source": [
    "def find_vowel(c):\n",
    "    if c in [\"a\",\"A\",\"e\",\"E\",\"i\", \"I\",\"o\",\"O\",\"u\",\"U\"]:\n",
    "        return True\n",
    "    else:\n",
    "        return False\n",
    "    \n",
    "result = find_vowel(\"I\")\n",
    "print(result)\n"
   ]
  },
  {
   "cell_type": "code",
   "execution_count": null,
   "metadata": {},
   "outputs": [],
   "source": []
  }
 ],
 "metadata": {
  "kernelspec": {
   "display_name": "Python 3",
   "language": "python",
   "name": "python3"
  },
  "language_info": {
   "codemirror_mode": {
    "name": "ipython",
    "version": 3
   },
   "file_extension": ".py",
   "mimetype": "text/x-python",
   "name": "python",
   "nbconvert_exporter": "python",
   "pygments_lexer": "ipython3",
   "version": "3.7.1"
  }
 },
 "nbformat": 4,
 "nbformat_minor": 2
}
